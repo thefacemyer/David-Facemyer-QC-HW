{
 "cells": [
  {
   "cell_type": "markdown",
   "id": "39d5c114",
   "metadata": {},
   "source": [
    "# Digital Quantum Simulations\n",
    "$$\\newcommand{\\ket}[1]{\\left|{#1}\\right\\rangle}$$\n",
    "$$\\newcommand{\\bra}[1]{\\left\\langle{#1}\\right|}$$\n",
    "$$\\newcommand{\\braket}[2]{\\left\\langle{#1}\\middle|{#2}\\right\\rangle}$$"
   ]
  },
  {
   "cell_type": "markdown",
   "id": "d25a98d0",
   "metadata": {},
   "source": [
    "In this tutorial, we will introduce time evolution of quantum states and how to simulate them using the Trotter-Suzuki formalism.  We then show to how to run the time evolution of a one dimensional Ising chain with three sites."
   ]
  },
  {
   "cell_type": "markdown",
   "id": "eeb53dc9",
   "metadata": {},
   "source": [
    "## Contents\n",
    "1. [Introduction](#introduction)\n",
    "2. [Trotter-Suzuki Formalism](#ts-equation)\n",
    "3. [The Heisenberg Model](#heisenberg-equation)\n",
    "4. [Trotterization](#trotterization)\n",
    "5. [Qiskit Implementation](#qiskit)"
   ]
  },
  {
   "cell_type": "markdown",
   "id": "6a115400",
   "metadata": {},
   "source": [
    "## Introduction <a id='introduction'></a>\n",
    "\n",
    "Classical simulation of physical systems typically begin by solving simple differential equations such as $\\frac{dy}{dt} = f(y)$ which, to first order, has the solution $y(t+\\Delta t)\\approx y(t)+f(y)\\Delta t$.  Meanwhile in quantum mechanics, we are concerned with the solution to $-i\\hbar\\frac{d\\ket{\\psi}}{dt}=H\\ket{\\psi}$, which for a time-indepent $H$, is\n",
    "$$ \\ket{\\Psi(t)} = e^{-i\\hbar Ht}\\ket{\\Psi(0)} $$\n",
    "\n",
    "and the simulation of a quantum system requires the ability to perform the operation above.  \n",
    "\n",
    "In most cases, this reduces to matrix exponentiation, but proves to be very difficult on classical computers due to the exponential growth of the size of the operator as the system size/Hilbert space increases.  A good attempt at a first order solution is $\\ket{\\psi(t+\\Delta t)}\\approx (I-i\\hbar H\\Delta t)\\ket{\\psi(t)}$, but this is generally not satisfactory.  However, if we can exponentiate the Hamiltonian, we only need a sufficiently small time step to simulate our system\n",
    "\n",
    "$$ \\ket{\\psi(t+\\Delta t)}= e^{-i\\hbar H\\Delta t}\\ket{\\psi(t)} $$\n",
    "\n",
    "Efficient approximations to the solution of this equation are possible for Hamiltonians which carry local interactions between the system's consitutent subsystems.  These classes of Hamiltonians can be written in the form\n",
    "\n",
    "$$ H = \\sum_k^L H_k $$\n",
    "\n",
    "where each $H_k$ acts locally on only a portion of the total system.  For example, the terms are often just two-body interactions (such as $X_iX_j$) and one-body Hamiltonians (such as $Z_i$).  For the physicists out there, both the Ising and Hubbard models (as we'll see later on) can be written in this way.  The advantage of writing the Hamiltonian in this way is that although the total time evolution operator $e^{iHt}$ may be difficult to compute, it is much easier to use $e^{iH_kt}$ as it acts on a much smaller subsytem and is straightforward to approximate using quantum circuits."
   ]
  },
  {
   "cell_type": "markdown",
   "id": "5909ecb8",
   "metadata": {},
   "source": [
    "## Trotter-Suzuki Formalism <a id='ts-equation'></a>\n",
    "\n",
    "Now armed with this idea of considering the Hamiltonian as a sum over a set of smaller subsystems, we can examine what our time evolution operator looks like.  It is important to note that because the subsystem terms $H_k$ do not generally commute with each other, we can anotssume the exponential of the full Hamiltonian is a product of each of the terms $H_k$ i.e.\n",
    "\n",
    "$$e^{-i\\hbar Ht}\\neq \\prod_k e^{-i\\hbar H_kt}.$$\n",
    "\n",
    "We can move past this by using the first order Trotter-Suzuki formula which asymptotically approximates the sum\n",
    "\n",
    "$$\n",
    "   e^{-iHt} = \\lim_{n\\rightarrow\\infty} \\left(\\prod_l e^{-iH_lt/n} \\right)^n.\n",
    "$$\n",
    "\n",
    "From now on we'll set $\\hbar=1$ (sorry experimentalists!).  So although we cannot exponentiate this Hamiltonian exactly, we can approximate it arbitrarily well using slices of size $1/n$.  Errors aside, this is still advantageous since we are able to efficiently implement a \"difficult\" gate $U(t)=e^{-iHt}$ by breaking the original problem into smaller pieces $e^{-iH_lt/n}$ which require only a limited set of elementary gates.\n",
    "\n",
    "\n",
    "It may also help to provide a bit of an intuitive picture of the ST decomposition.  In his original paper discussing universal quantum simulators, Lloyd (S. Lloyd, Science 273, 1073) gave this example on the Trotter-Suzuki formalism:\n",
    "\n",
    "<blockquote> The method for performing the simulation is conceptually straightforward, if mathematically involved. The goal is to get the simulator from point A to point B along a particular route. But the simulator can only be driven in certain directions--the operations that can be applied experimentally are limited--so it is usually not possible to go from point A to point B directly. But by moving the simulator first a little bit in one direction, then a little bit in another, then a little bit in another, and so on, it is possible to move from A to B. A car can only be driven forward and backward--it cannot be driven sideways. But it is still possible to parallel park. The following construction demonstrates a quantum analog of a familiar classical fact: By going forward and backing up a sufficiently small distance a large enough number of times, it is possible to parallel park in a space only $\\epsilon$ longer than the length of the care </blockquote>"
   ]
  },
  {
   "cell_type": "markdown",
   "id": "d36335f6",
   "metadata": {},
   "source": [
    "## The Quantum Ising Model <a id='ising-equation'></a>\n",
    "\n",
    "The Ising model with a transverse field has the form\n",
    "$$\n",
    "    H_{Ising} = J\\sum_i(Z_iZ_{i+1} + gX_i)\n",
    "$$\n",
    "where $J$ is a dimensionless coupling constant and $g$ is a similarly dimensionless constant corresponding to the strength of a transverse magnetic field.\n",
    "\n",
    "In this model, two of the observables that are interesting to consider are the energy $\\langle H \\rangle$ and magnetization $\\langle \\sigma_z \\rangle$.  For isolated systems, the energy should be constant in time (at least in the limit of the uncertainty principle) and so we'll be mostly focused on the magnetization which is a bit more interesting here.\n",
    "\n",
    "The time evolution operator $U(t)$ has the form\n",
    "\n",
    "$$\n",
    "    e^{-itH} = \\exp\\left(-it\\left(J\\sum_i(Z_iZ_{i+1} + gX_i)\\right)\\right)\n",
    "$$\n",
    "\n"
   ]
  },
  {
   "cell_type": "markdown",
   "id": "3b10807a",
   "metadata": {},
   "source": [
    "###  Exact Evolution for 3 Spins\n",
    "\n",
    "To get started with some data we can compare our circuit results to.  It turns out Qiskit has a nice set of tools we can use to produce this called `opflow` (there is also a [tutorial](https://qiskit.org/documentation/tutorials/operators/01_operator_flow.html) on this module if you are so inclined).  The cells below will build the Hamiltonian and corresponding (exact) time evolution operator, then apply it onto an initial state $|101\\rangle$ and measure its expectation value for several times."
   ]
  },
  {
   "cell_type": "code",
   "execution_count": 1,
   "id": "b6ff1acf",
   "metadata": {},
   "outputs": [],
   "source": [
    "import numpy as np\n",
    "import matplotlib.pyplot as plt\n",
    "plt.rcParams.update({'font.size': 16})\n",
    "\n",
    "# Import Qubit states Zero (|0>) and One (|1>), and Pauli operators (X, Y, Z)\n",
    "from qiskit.opflow import Zero, One, I, X, Y, Z\n"
   ]
  },
  {
   "cell_type": "code",
   "execution_count": 2,
   "id": "dda78080",
   "metadata": {},
   "outputs": [],
   "source": [
    "# Returns matrix representation of the non-periodic Ising model for 3 spin-1/2 particles in a line\n",
    "def H_ising(J: float, g: float):\n",
    "    #Interactions (I is the identity matrix; X and Z are Pauli matrices; ^ is a tensor product; * multiplies a scalar)\n",
    "    ZZs = (Z^Z^I) + (I^Z^Z)\n",
    "    Xs = (X^I^I) + (I^X^I) + (I^I^X)\n",
    "    \n",
    "    H = -J*(ZZs + (g*Xs))\n",
    "    return H\n",
    "\n",
    "# Returns matrix representation of U_ising(t) for a given time t and a set of system parameters\n",
    "def U_ising(t, J, g):\n",
    "    #Compute the Ising Hamiltonian as above\n",
    "    H = H_ising(J, g)\n",
    "    # Return the exponential of -i*t multiplied by the 3 spin Ising Hamiltonian\n",
    "    return (t * H).exp_i()\n"
   ]
  },
  {
   "cell_type": "code",
   "execution_count": 3,
   "id": "5c8902af",
   "metadata": {},
   "outputs": [
    {
     "name": "stdout",
     "output_type": "stream",
     "text": [
      "U =  e^(-i*-1.0 * ZZI\n",
      "- 1.0 * IZZ\n",
      "- 1.0 * XII\n",
      "- 1.0 * IXI\n",
      "- 1.0 * IIX)\n"
     ]
    },
    {
     "data": {
      "image/png": "[encoded data removed]",
      "text/plain": [
       "<Figure size 432x288 with 1 Axes>"
      ]
     },
     "metadata": {
      "needs_background": "light"
     },
     "output_type": "display_data"
    }
   ],
   "source": [
    "# Define array of time points\n",
    "ts = np.linspace(0, np.pi, 100)\n",
    "J = 1.0\n",
    "g = 1.\n",
    "\n",
    "# Define initial state |101>\n",
    "initial_state = One^Zero^One\n",
    "\n",
    "#Test out U operator for time t=1.0\n",
    "U = U_ising(1., J, g)\n",
    "print(\"U = \",U)\n",
    "\n",
    "# Compute probability of remaining in |101> state over the array of time points\n",
    " # The '~' gives the bra of the initial state (<101|)\n",
    " # @ is short hand for matrix multiplication\n",
    " # U_ising(t) is the unitary time evolution at time t\n",
    " # t needs to be wrapped with float(t) to avoid a bug\n",
    " # (...).eval() returns the inner product <101|U_ising(t)|101>\n",
    " #  np.abs(...)**2 is the modulus squared of the innner product which is the expectation value, or probability, of remaining in |110>\n",
    "probs_101 = [np.abs((~initial_state @ U_ising(float(t), J, g) @ initial_state).eval())**2 for t in ts]\n",
    "\n",
    "# Plot evolution of |101>\n",
    "plt.plot(ts, probs_101)\n",
    "plt.xlabel('time (t)')\n",
    "plt.ylabel(r'probability of state $|101\\rangle$')\n",
    "plt.title(r'Evolution of state $|101\\rangle$ under $H_{Ising}$')\n",
    "plt.grid()\n",
    "plt.show()\n",
    "\n"
   ]
  },
  {
   "cell_type": "markdown",
   "id": "2aee84c9",
   "metadata": {},
   "source": [
    "### Measuring the Magnetization\n",
    "\n",
    "Using opflow to measure the expectation of the total magnetization $\\langle\\sigma_z\\rangle$ can similarly be written by adding in a couple functions which will compute $\\langle\\sigma_z\\rangle$ in the computational basis.  In your last lab, you learned a bit about measuring expectation values and so here we will extend this by measuring over three qubits instead of just one.  Recall that the $Z$ operator has the form\n",
    "$$\n",
    "    Z = |0\\rangle\\langle0| - |1\\rangle\\langle1|\n",
    "$$\n",
    "and if we want to measure $Z$ for two qubits, we have a few choices: $IZ$, $ZI$, and $ZZ$\n",
    "$$\n",
    "    IZ = |00\\rangle\\langle00| - |01\\rangle\\langle01| + |10\\rangle\\langle10| - |11\\rangle\\langle11| \\\\\n",
    "    ZI = |00\\rangle\\langle00| + |01\\rangle\\langle01| - |10\\rangle\\langle10| - |11\\rangle\\langle11| \\\\\n",
    "    ZZ = |00\\rangle\\langle00| - |01\\rangle\\langle01| - |10\\rangle\\langle10| + |11\\rangle\\langle11|\n",
    "$$\n",
    "where you'll notice the first two operators are measuring $Z$ on *only* the first or second qubit while $ZZ$ measures on both.  To measure the magnetization we measure $Z$ on each of the qubits in our chain $\\langle\\sigma_z\\rangle=IZ + ZI$\n",
    "\n",
    "To extend this to a chain of *N* qubits, we can write the operator as:\n",
    "\n",
    "\n",
    "$$    \\langle\\sigma_z\\rangle = \\frac{1}{N}\\sum_i^{2^N}p_i\\langle c_i|\\sigma_z|c_i\\rangle = \\frac{1}{N}\\sum_i^{2^N}p_i\\left(n_i^0 - n_i^1\\right) = \\frac{1}{N}\\sum_i^{2^N}p_i\\left(N - 2n_i^1\\right)    \n",
    "$$\n",
    "\n",
    "where $|c_i\\rangle$ are each of the computational basis states, $p_i$ is the probability of measuring the *i*-th state and $n_i^0$, $n_i^1$ are the number of $0$'s and $1$'s in the bit string respectively.  \n"
   ]
  },
  {
   "cell_type": "markdown",
   "id": "9265a311",
   "metadata": {},
   "source": [
    "\n",
    "<h3 style=\"font-size: 20px\">&#128211; Verify that this sum is equivalent to measuring: $\\langle ZIII...I  + IZII...I + IIZ...I + ...  + III...IZ \\rangle$"
   ]
  },
  {
   "cell_type": "markdown",
   "id": "16fb9f3e",
   "metadata": {},
   "source": [
    "$$ \\langle\\sigma_z\\rangle = \\frac{1}{N}\\sum_i^{2^N}p_i\\langle c_i|\\sigma_z|c_i\\rangle = \\frac{1}{N}\\sum_i^{2^N}p_i\\langle c_i \\bigg|\\sum_{k=0} ^{N-1} Z_k \\bigg|c_i\\rangle = \\frac{1}{N} \\bigg(\\langle q_0 q_1 \\cdots q_{N-1} |Z_0 + Z_1 + \\cdots Z_{N-1}| q_0 q_1 \\cdots q_{N-1} \\rangle \\bigg) = \\frac{1}{N} \\bigg( \\langle q_0 |Z_0| q_0 \\rangle \\langle q_1 q_2 \\cdots q_{N-1}|q_1 q_2 \\cdots q_{N-1} \\rangle + \\langle q_0|q_0 \\rangle\\langle q_1|Z_1|q_1\\rangle \\langle q_2 q_3 \\cdots q_{N-1}|q_2 q_3 \\cdots q_{N-1} \\rangle + \\cdots \\langle q_0 q_1 \\cdots q_{N-2}|q_0 q_1 \\cdots q_{N-2} \\rangle\\langle q_{N-1} |Z_{N-1}| q_{N-1} \\rangle \\bigg) = \\langle ZIII...I  + IZII...I + IIZ...I + ...  + III...IZ \\rangle\n",
    "$$"
   ]
  },
  {
   "cell_type": "code",
   "execution_count": 4,
   "id": "a8c0a2bd",
   "metadata": {},
   "outputs": [
    {
     "data": {
      "image/png": "[encoded data removed]",
      "text/plain": [
       "<Figure size 432x288 with 1 Axes>"
      ]
     },
     "metadata": {
      "needs_background": "light"
     },
     "output_type": "display_data"
    }
   ],
   "source": [
    "#Computational basis states for 3 qubits\n",
    "states = [Zero^Zero^Zero, Zero^Zero^One, Zero^One^Zero, Zero^One^One, \n",
    "          One^Zero^Zero, One^Zero^One, One^One^Zero, One^One^One]\n",
    "\n",
    "#Return the number of '1's in a given bit string\n",
    "def bit_sum(n):\n",
    "    sum = 0\n",
    "    for bit in n:\n",
    "        sum += int(bit)\n",
    "    return sum\n",
    "\n",
    "#Function to compute the magnetization from a given opflow state\n",
    "def sigma_z(psi_t):\n",
    "    state_probs = []\n",
    "    for state in states:\n",
    "        bit_string = list(state.primitive.keys())[0]\n",
    "        bitsum = bit_sum(bit_string)\n",
    "        state_probs.append((3.-2.*bitsum) * np.abs((~state @ psi_t).eval())**2)\n",
    "    return sum(state_probs)/3\n",
    "        \n",
    "        \n",
    "ts = np.linspace(0, np.pi, 100)\n",
    "\n",
    "#Define your initial state\n",
    "init_state = One^Zero^One\n",
    "\n",
    "#Compute the magnetization at each time step\n",
    "mags = [sigma_z(U_ising(float(t), J, g) @ init_state) for t in ts]\n",
    "\n",
    "# Plot evolution of |110>\n",
    "plt.plot(ts, mags)\n",
    "plt.xlabel('time (t)')\n",
    "plt.ylabel(r'$\\langle\\sigma_z\\rangle$')\n",
    "plt.title(r'Magnetization of State $|${}$\\rangle$'.format(list(init_state.primitive.keys())[0]))\n",
    "plt.grid()\n",
    "plt.show()\n",
    "    \n",
    "\n",
    "\n"
   ]
  },
  {
   "cell_type": "markdown",
   "id": "a5d2cbdc",
   "metadata": {},
   "source": [
    "## Trotterization <a id='trotterization'></a>\n",
    "    \n",
    "Now that we understand what about the Ising model we are interested in, let's take a look at what the time evolution operator $U(t)$ looks like as we \"Trotterize\" it.  If we assume a system of three sites and open boundary conditions, the Hamiltonian can be written as\n",
    "$$\n",
    "        H_{Ising} = J\\sum_i(Z_iZ_{i+1} + gX_i) = JZ_0Z_1 + JZ_1Z_2 + JgX_0 + JgX_1 + JgX_2.\n",
    "$$\n",
    "\n",
    "We can then expand this out using the Trotter-Suzuki decomposition with $m$ slices\n",
    "$$\n",
    "       U(t) = \\exp\\left(-it\\left(J\\sum_i(Z_iZ_i{i+1} + gX_i)\\right)\\right) \\\\\n",
    "           \\approx \\left[\\prod_i \\exp\\left(-iH_i t/m\\right)\\right]^m \\\\\n",
    "           = \\left[e^{-it/mJ Z_0Z_1} e^{-it/mJ Z_1Z_2} e^{-it/mJgX_0} e^{-it/mJgX_1} e^{-it/mJgX_2}\\right]^m \\\\\n",
    "           = \\left[e^{-i\\theta_1 Z_0Z_1} e^{-i\\theta_1 Z_1Z_2} e^{-i\\theta_2X_0} e^{-i\\theta_2X_1} e^{-i\\theta_2X_2}\\right]^m\n",
    "$$\n",
    "\n",
    "and are left with 5 exponential operators of the form either $ZZ(\\theta)$ or $X(\\theta)$.  These operators have matrix representations of:\n",
    "\n",
    "$$\n",
    "    ZZ(\\theta) = \\begin{pmatrix} e^{-i\\frac{\\theta}{2}} & 0 & 0 & 0 \\\\\n",
    "                                0 & e^{i\\frac{\\theta}{2}} & 0 & 0 \\\\ \n",
    "                                0 & 0 & e^{i\\frac{\\theta}{2}} & 0 \\\\ \n",
    "                                0 & 0 & 0 & e^{-i\\frac{\\theta}{2}}  \\end{pmatrix} \\\\ \n",
    "                                \\\\ \n",
    "    X(\\theta) = \\begin{pmatrix} \\cos\\left(\\frac{\\theta}{2}\\right) & -i\\sin\\left(\\frac{\\theta}{2}\\right) \\\\\n",
    "                                i\\sin\\left(\\frac{\\theta}{2}\\right) & \\cos\\left(\\frac{\\theta}{2}\\right) \\end{pmatrix}\n",
    "$$\n"
   ]
  },
  {
   "cell_type": "markdown",
   "id": "694b7c54",
   "metadata": {},
   "source": [
    "\n",
    "<h3 style=\"font-size: 20px\">&#128211; Expand each of the operators of U(t) and show that they are equivalent to the rotation matrices above."
   ]
  },
  {
   "cell_type": "markdown",
   "id": "e9d3d54d",
   "metadata": {},
   "source": [
    "Expanding a $Z$-term in the product, defining $\\theta \\equiv \\frac{t}{m}J$, and including a factor of $1\\over2$ to properly map to the Bloch-sphere yields (note too that the direct product $Z_j \\otimes Z_k$ is understood here and the notation is dropped):\n",
    "\n",
    "$$\n",
    "e^{-i\\theta Z_j Z_k} = \\hat{I} + \\bigg(\\frac{-i\\theta Z_j Z_k}{2}\\bigg) + \\frac{1}{2!} \\bigg(\\frac{-i\\theta Z_j Z_k}{2}\\bigg)^2 + \\frac{1}{3!} \\bigg(\\frac{-i\\theta Z_j Z_k}{2}\\bigg)^3 + \\mathcal{O}\\bigg(\\frac{-i\\theta Z_j Z_k}{2}\\bigg)^4.\n",
    "$$\n",
    "\n",
    "Splitting the terms in a clever way gives us\n",
    "\n",
    "$$\n",
    "\\hat{I} + \\frac{1}{2!} \\bigg(\\frac{-i\\theta Z_j Z_k}{2}\\bigg)^2 + \\frac{1}{4!} \\bigg(\\frac{-i\\theta Z_j Z_k}{2}\\bigg)^4 + \\mathcal{O}\\bigg(\\frac{-i\\theta Z_j Z_k}{2}\\bigg)^6 = \\hat{I} - (Z_j Z_k)^2 \\frac{1}{2!} \\bigg(\\frac{\\theta}{2}\\bigg)^2 + (Z_j Z_k)^4 \\frac{1}{4!} \\bigg(\\frac{\\theta}{2}\\bigg)^4 + \\mathcal{O}\\bigg(\\frac{-i\\theta Z_j Z_k}{2}\\bigg)^6 = \\hat{I} - \\hat{I} \\frac{1}{2!} \\bigg(\\frac{\\theta}{2}\\bigg)^2 + \\hat{I} \\frac{1}{4!} \\bigg(\\frac{\\theta}{2}\\bigg)^4 + \\hat{I} \\mathcal{O}\\bigg(\\frac{-i\\theta}{2}\\bigg)^6 = \\hat{I} \\cos{\\frac{\\theta}{2}}\n",
    "$$\n",
    "and\n",
    "$$\n",
    "\\bigg(\\frac{-i\\theta Z_j Z_k}{2}\\bigg) + \\frac{1}{3!} \\bigg(\\frac{-i\\theta Z_j Z_k}{2}\\bigg)^3 + \\frac{1}{5!} \\bigg(\\frac{-i\\theta Z_j Z_k}{2}\\bigg)^5 + \\mathcal{O}\\bigg(\\frac{-i\\theta Z_j Z_k}{2}\\bigg)^7 = -iZ_j Z_k\\bigg(\\frac{\\theta}{2}\\bigg) + i(Z_j Z_k)^3 \\frac{1}{3!} \\bigg(\\frac{\\theta}{2}\\bigg)^3 - i(Z_j Z_k)^5 \\frac{1}{5!} \\bigg(\\frac{\\theta}{2}\\bigg)^5 + \\mathcal{O}\\bigg(\\frac{-i\\theta Z_j Z_k}{2}\\bigg)^7 = -iZ_j Z_k\\bigg(\\frac{\\theta}{2}\\bigg) + iZ_j Z_k \\hat{I} \\frac{1}{3!} \\bigg(\\frac{\\theta}{2}\\bigg)^3 - iZ_j Z_k \\hat{I} \\frac{1}{5!} \\bigg(\\frac{\\theta}{2}\\bigg)^5 + Z_j Z_k \\hat{I} \\mathcal{O}\\bigg(\\frac{-i\\theta}{2}\\bigg)^7 = -iZ_j Z_k \\sin{\\frac{\\theta}{2}}.\n",
    "$$\n",
    "\n",
    "Therefore,\n",
    "$$\n",
    "ZZ(\\theta) = e^{-i\\theta Z_j Z_k} = \\hat{I} \\cos{\\frac{\\theta}{2}}- iZ_j Z_k \\sin{\\frac{\\theta}{2}} = \\begin{pmatrix}\n",
    "e^{-i\\frac{\\theta}{2}} & 0 & 0 & 0 \\\\\n",
    "0 & e^{i\\frac{\\theta}{2}} & 0 & 0 \\\\ \n",
    "0 & 0 & e^{i\\frac{\\theta}{2}} & 0 \\\\ \n",
    "0 & 0 & 0 & e^{-i\\frac{\\theta}{2}}  \\end{pmatrix}.\n",
    "$$\n",
    "\n",
    "We were deliberate in keeping the $Z_j Z_k$ operator until the end of the derivation because it makes clear that any operator satisfying $(\\hat{A} \\otimes \\hat{A})^{2n} = \\hat{I}$ produces similar results. Thus, for $\\phi \\equiv g\\theta$,\n",
    "$$\n",
    "X(\\phi) = e^{-i\\phi X_j} = \\hat{I} \\cos{\\frac{\\phi}{2}} - iX_j \\sin{\\frac{\\phi}{2}} = \\begin{pmatrix}\n",
    "\\cos{\\frac{\\phi}{2}} & - i\\sin{\\frac{\\phi}{2}} \\\\\n",
    "- i\\sin{\\frac{\\phi}{2}} & \\cos{\\frac{\\phi}{2}}  \\end{pmatrix}.\n",
    "$$"
   ]
  },
  {
   "cell_type": "markdown",
   "id": "cfd683a3",
   "metadata": {},
   "source": [
    "## Qiskit Implementation <a id='qiskit'></a>\n",
    "\n",
    "<h3 style=\"font-size: 20px\">&#128211; Step A.  Build a circuit that will implement the operator $U(t)$ for a given target time and number of Trotter steps."
   ]
  },
  {
   "cell_type": "code",
   "execution_count": 5,
   "id": "922b5255",
   "metadata": {},
   "outputs": [
    {
     "data": {
      "image/png": "[encoded data removed]",
      "text/plain": [
       "<Figure size 628.397x264.88 with 1 Axes>"
      ]
     },
     "execution_count": 5,
     "metadata": {},
     "output_type": "execute_result"
    }
   ],
   "source": [
    "#### Your code goes here\n",
    "\n",
    "#Conveniently enough, qiskit has both a ZZ(theta) and X(theta) gates by default. Check the docs on how to call them.\n",
    "#Start by calculating the angle theta for a given time and number of steps. Then create function(s) to add on \n",
    "\n",
    "from qiskit import *\n",
    "from qiskit.tools.monitor import job_monitor\n",
    "import qiskit.tools.jupyter\n",
    "\n",
    "import numpy as np\n",
    "import matplotlib.pyplot as plt\n",
    "\n",
    "# define the number of qubits\n",
    "num_q = 3\n",
    "\n",
    "#state we want to examine\n",
    "state = [1,0,1]\n",
    "\n",
    "def U_trotter(num_q, state, t, m, j_hop, g_hop):\n",
    "    # Here create the quantum circuit with one qubit\n",
    "    qc = QuantumCircuit(num_q,num_q)\n",
    "    #initialized the circuit to desired state\n",
    "    for i in range(len(state)):\n",
    "        if state[i] == 1:\n",
    "            qc.x(i)\n",
    "    \n",
    "    #interaction terms\n",
    "    theta = (t/m) * j_hop\n",
    "    phi = g_hop * theta\n",
    "    \n",
    "    #implement gates\n",
    "    for j in range(m):\n",
    "        for i in range(num_q-1):\n",
    "            qc.rzz(theta,i,i+1)\n",
    "            qc.rx(phi,i)\n",
    "        #add gate to final qbit\n",
    "        qc.rx(phi,num_q-1)\n",
    "    \n",
    "    #measure\n",
    "    for i in range(num_q):\n",
    "        qc.measure(i,i)\n",
    "    \n",
    "    return qc\n",
    "\n",
    "#time\n",
    "time_length = np.pi\n",
    "\n",
    "j_hop = 1\n",
    "g_hop = 1\n",
    "\n",
    "#test and draw circuit\n",
    "circuit = U_trotter(num_q,state,time_length,1,j_hop,g_hop)\n",
    "#circuit.draw()\n",
    "circuit.draw('mpl')"
   ]
  },
  {
   "cell_type": "markdown",
   "id": "50fd6e68",
   "metadata": {},
   "source": [
    "<h3 style=\"font-size: 20px\">&#128211; Step B. Measure and plot the expectation of the state $|101\\rangle$ as shown in section 3.1.  Plot this for several different numbers of Trotter steps to see how the trotterized $U(t)$ begins to converge to the true $U(t)$"
   ]
  },
  {
   "cell_type": "code",
   "execution_count": 6,
   "id": "8d8b75f6",
   "metadata": {},
   "outputs": [
    {
     "name": "stdout",
     "output_type": "stream",
     "text": [
      "     ┌───┐         ┌────────┐          ┌─┐      \n",
      "q_0: ┤ X ├─■───────┤ Rx(10) ├──────────┤M├──────\n",
      "     └───┘ │ZZ(10) └────────┘┌────────┐└╥┘┌─┐   \n",
      "q_1: ──────■────────■────────┤ Rx(10) ├─╫─┤M├───\n",
      "     ┌───┐          │ZZ(10)  ├────────┤ ║ └╥┘┌─┐\n",
      "q_2: ┤ X ├──────────■────────┤ Rx(10) ├─╫──╫─┤M├\n",
      "     └───┘                   └────────┘ ║  ║ └╥┘\n",
      "c: 3/═══════════════════════════════════╩══╩══╩═\n",
      "                                        0  1  2 \n"
     ]
    },
    {
     "data": {
      "image/png": "[encoded data removed]",
      "text/plain": [
       "<Figure size 432x288 with 1 Axes>"
      ]
     },
     "metadata": {
      "needs_background": "light"
     },
     "output_type": "display_data"
    }
   ],
   "source": [
    "#### Your code goes here\n",
    "\n",
    "#Note in the example plot, the parameters J = g = 1.0\n",
    "\n",
    "#Recall that the results are returned as a dict object with the bitstring as keys and the number of counts as values.\n",
    "# A suggestion to run this quickly is to use the Aer simulator backend.  For extra points, plot the time evolution\n",
    "#  using a real device\n",
    "\n",
    "sim = Aer.get_backend('aer_simulator')\n",
    "\n",
    "shots = 8e3\n",
    "\n",
    "steps = 100\n",
    "\n",
    "ts = np.linspace(0,10,steps)\n",
    "\n",
    "count1 = np.empty(steps)\n",
    "count2 = np.empty(steps)\n",
    "count4 = np.empty(steps)\n",
    "count8 = np.empty(steps)\n",
    "\n",
    "for i in range(steps):\n",
    "    qc1 = U_trotter(num_q, state, ts[i],1, j_hop, g_hop) #builds circuit with trotterized operator m=1\n",
    "    output = sim.run(qc1, shots=shots) #runs circuit and collects outputs (Z-measures)\n",
    "    sim_results = output.result() #lists results (Z-measures) after run\n",
    "    sim_counts = sim_results.get_counts(qc1) #lists the counts of each state after run\n",
    "    count1[i] = sim_counts.get('101') #stores count of desired state after run\n",
    "\n",
    "print(qc1)\n",
    "\n",
    "for i in range(steps):\n",
    "    qc2 = U_trotter(num_q, state, ts[i],2, j_hop, g_hop) #builds circuit with trotterized operator m=2\n",
    "    output = sim.run(qc2, shots=shots) #runs circuit and collects outputs (Z-measures)\n",
    "    sim_results = output.result() #lists results (Z-measures) after run\n",
    "    sim_counts = sim_results.get_counts(qc2) #lists the counts of each state after run\n",
    "    count2[i] = sim_counts.get('101') #stores count of desired state after run\n",
    "    \n",
    "for i in range(steps):\n",
    "    qc4 = U_trotter(num_q, state, ts[i],4, j_hop, g_hop) #builds circuit with trotterized operator m=4\n",
    "    output = sim.run(qc4, shots=shots) #runs circuit and collects outputs (Z-measures)\n",
    "    sim_results = output.result() #lists results (Z-measures) after run\n",
    "    sim_counts = sim_results.get_counts(qc4) #lists the counts of each state after run\n",
    "    count4[i] = sim_counts.get('101') #stores count of desired state after run\n",
    "\n",
    "for i in range(steps):\n",
    "    qc8 = U_trotter(num_q, state, ts[i],8, j_hop, g_hop) #builds circuit with trotterized operator m=8\n",
    "    output = sim.run(qc8, shots=shots) #runs circuit and collects outputs (Z-measures)\n",
    "    sim_results = output.result() #lists results (Z-measures) after run\n",
    "    sim_counts = sim_results.get_counts(qc8) #lists the counts of each state after run\n",
    "    count8[i] = sim_counts.get('101') #stores count of desired state after run\n",
    "\n",
    "fig1 = plt.plot(ts,count1/shots,label='m=1')\n",
    "plt.plot(ts,count2/shots,label='m=2')\n",
    "plt.plot(ts,count4/shots,label='m=4')\n",
    "plt.plot(ts,count8/shots,label='m=8')\n",
    "plt.xlabel('Time (t)')\n",
    "plt.ylabel(r'Probability of state $|101\\rangle$')\n",
    "plt.title(r'Evolution of state $|101\\rangle$ under $H_{Ising}$')\n",
    "plt.grid()\n",
    "plt.legend()\n",
    "plt.show()"
   ]
  },
  {
   "cell_type": "markdown",
   "id": "85788677",
   "metadata": {},
   "source": [
    "<h3 style=\"font-size: 17px\">&#128211; Step C. Write a function to process the circuit results and calculate $\\langle\\sigma_z\\rangle$.  Plot this against time as shown further above"
   ]
  },
  {
   "cell_type": "code",
   "execution_count": 7,
   "id": "31597ae4",
   "metadata": {},
   "outputs": [
    {
     "data": {
      "image/png": "[encoded data removed]",
      "text/plain": [
       "<Figure size 432x288 with 1 Axes>"
      ]
     },
     "metadata": {
      "needs_background": "light"
     },
     "output_type": "display_data"
    }
   ],
   "source": [
    "#### Your code goes here\n",
    "\n",
    "#A helpful starting point here is to remember that the magnetization can be measured by examining each bitstring \n",
    "# from the results.\n",
    "\n",
    "mags1 = np.empty(steps)\n",
    "mags2 = np.empty(steps)\n",
    "mags4 = np.empty(steps)\n",
    "mags8 = np.empty(steps)\n",
    "\n",
    "for i in range(steps):\n",
    "    qc1 = U_trotter(num_q, state, ts[i],1, j_hop, g_hop) #builds circuit with trotterized operator m=1\n",
    "    output = sim.run(qc1, shots=shots) #runs circuit and collects outputs (Z-measures)\n",
    "    sim_results = output.result() #lists results (Z-measures) after run\n",
    "    sim_counts = sim_results.get_counts(qc1) #lists the counts of each state after run\n",
    "    \n",
    "    n1 = sim_counts.get('000')\n",
    "    if n1 is None:\n",
    "        n1 = 0\n",
    "    n2 = sim_counts.get('001')\n",
    "    if n2 is None:\n",
    "        n2 = 0\n",
    "    n3 = sim_counts.get('010')\n",
    "    if n3 is None:\n",
    "        n3 = 0\n",
    "    n4 = sim_counts.get('100')\n",
    "    if n4 is None:\n",
    "        n4 = 0\n",
    "    n5 = sim_counts.get('011')\n",
    "    if n5 is None:\n",
    "        n5 = 0\n",
    "    n6 = sim_counts.get('101')\n",
    "    if n6 is None:\n",
    "        n6 = 0\n",
    "    n7 = sim_counts.get('110')\n",
    "    if n7 is None:\n",
    "        n7 = 0\n",
    "    n8 = sim_counts.get('111')\n",
    "    if n8 is None:\n",
    "        n8 = 0\n",
    "    \n",
    "    n_sum = n1+n2+n3+n4+n5+n6+n7+n8\n",
    "        \n",
    "    mags1[i] = n_sum/shots - 2/num_q * (0*n1/shots + 1*n2/shots + 1*n3/shots + 1*n4/shots + 2*n5/shots + 2*n6/shots + 2*n7/shots + 3*n8/shots)\n",
    "\n",
    "fig2 = plt.plot(ts,mags1,label='m=1')\n",
    "\n",
    "for i in range(steps):\n",
    "    qc2 = U_trotter(num_q, state, ts[i],2, j_hop, g_hop) #builds circuit with trotterized operator m=2\n",
    "    output = sim.run(qc2, shots=shots) #runs circuit and collects outputs (Z-measures)\n",
    "    sim_results = output.result() #lists results (Z-measures) after run\n",
    "    sim_counts = sim_results.get_counts(qc2) #lists the counts of each state after run\n",
    "    \n",
    "    n1 = sim_counts.get('000')\n",
    "    if n1 is None:\n",
    "        n1 = 0\n",
    "    n2 = sim_counts.get('001')\n",
    "    if n2 is None:\n",
    "        n2 = 0\n",
    "    n3 = sim_counts.get('010')\n",
    "    if n3 is None:\n",
    "        n3 = 0\n",
    "    n4 = sim_counts.get('100')\n",
    "    if n4 is None:\n",
    "        n4 = 0\n",
    "    n5 = sim_counts.get('011')\n",
    "    if n5 is None:\n",
    "        n5 = 0\n",
    "    n6 = sim_counts.get('101')\n",
    "    if n6 is None:\n",
    "        n6 = 0\n",
    "    n7 = sim_counts.get('110')\n",
    "    if n7 is None:\n",
    "        n7 = 0\n",
    "    n8 = sim_counts.get('111')\n",
    "    if n8 is None:\n",
    "        n8 = 0\n",
    "    \n",
    "    n_sum = n1+n2+n3+n4+n5+n6+n7+n8\n",
    "        \n",
    "    mags2[i] = n_sum/shots - 2/num_q * (0*n1/shots + 1*n2/shots + 1*n3/shots + 1*n4/shots + 2*n5/shots + 2*n6/shots + 2*n7/shots + 3*n8/shots)\n",
    "\n",
    "plt.plot(ts,mags2,label='m=2')\n",
    "\n",
    "for i in range(steps):\n",
    "    qc4 = U_trotter(num_q, state, ts[i],4, j_hop, g_hop) #builds circuit with trotterized operator m=4\n",
    "    output = sim.run(qc4, shots=shots) #runs circuit and collects outputs (Z-measures)\n",
    "    sim_results = output.result() #lists results (Z-measures) after run\n",
    "    sim_counts = sim_results.get_counts(qc4) #lists the counts of each state after run\n",
    "    \n",
    "    n1 = sim_counts.get('000')\n",
    "    if n1 is None:\n",
    "        n1 = 0\n",
    "    n2 = sim_counts.get('001')\n",
    "    if n2 is None:\n",
    "        n2 = 0\n",
    "    n3 = sim_counts.get('010')\n",
    "    if n3 is None:\n",
    "        n3 = 0\n",
    "    n4 = sim_counts.get('100')\n",
    "    if n4 is None:\n",
    "        n4 = 0\n",
    "    n5 = sim_counts.get('011')\n",
    "    if n5 is None:\n",
    "        n5 = 0\n",
    "    n6 = sim_counts.get('101')\n",
    "    if n6 is None:\n",
    "        n6 = 0\n",
    "    n7 = sim_counts.get('110')\n",
    "    if n7 is None:\n",
    "        n7 = 0\n",
    "    n8 = sim_counts.get('111')\n",
    "    if n8 is None:\n",
    "        n8 = 0\n",
    "    \n",
    "    n_sum = n1+n2+n3+n4+n5+n6+n7+n8\n",
    "        \n",
    "    mags4[i] = n_sum/shots - 2/num_q * (0*n1/shots + 1*n2/shots + 1*n3/shots + 1*n4/shots + 2*n5/shots + 2*n6/shots + 2*n7/shots + 3*n8/shots)\n",
    "\n",
    "plt.plot(ts,mags4,label='m=4')\n",
    "\n",
    "for i in range(steps):\n",
    "    qc8 = U_trotter(num_q, state, ts[i],8, j_hop, g_hop) #builds circuit with trotterized operator m=8\n",
    "    output = sim.run(qc8, shots=shots) #runs circuit and collects outputs (Z-measures)\n",
    "    sim_results = output.result() #lists results (Z-measures) after run\n",
    "    sim_counts = sim_results.get_counts(qc8) #lists the counts of each state after run\n",
    "    \n",
    "    n1 = sim_counts.get('000')\n",
    "    if n1 is None:\n",
    "        n1 = 0\n",
    "    n2 = sim_counts.get('001')\n",
    "    if n2 is None:\n",
    "        n2 = 0\n",
    "    n3 = sim_counts.get('010')\n",
    "    if n3 is None:\n",
    "        n3 = 0\n",
    "    n4 = sim_counts.get('100')\n",
    "    if n4 is None:\n",
    "        n4 = 0\n",
    "    n5 = sim_counts.get('011')\n",
    "    if n5 is None:\n",
    "        n5 = 0\n",
    "    n6 = sim_counts.get('101')\n",
    "    if n6 is None:\n",
    "        n6 = 0\n",
    "    n7 = sim_counts.get('110')\n",
    "    if n7 is None:\n",
    "        n7 = 0\n",
    "    n8 = sim_counts.get('111')\n",
    "    if n8 is None:\n",
    "        n8 = 0\n",
    "    \n",
    "    n_sum = n1+n2+n3+n4+n5+n6+n7+n8\n",
    "        \n",
    "    mags8[i] = n_sum/shots - 2/num_q * (0*n1/shots + 1*n2/shots + 1*n3/shots + 1*n4/shots + 2*n5/shots + 2*n6/shots + 2*n7/shots + 3*n8/shots)\n",
    "\n",
    "plt.plot(ts,mags8,label='m=8')\n",
    "\n",
    "plt.xlabel('Time (t)')\n",
    "plt.ylabel(r'$\\langle\\sigma_z\\rangle$')\n",
    "plt.title(r'Magnitization of state $|101\\rangle$ under $H_{Ising}$')\n",
    "plt.grid()\n",
    "plt.legend()\n",
    "plt.show()"
   ]
  },
  {
   "cell_type": "markdown",
   "id": "2a41435e",
   "metadata": {},
   "source": [
    "<h3 style=\"font-size: 17px\">&#128211; Step D. Run these circuits on your favorite backend and plot against the simulated data."
   ]
  },
  {
   "cell_type": "code",
   "execution_count": 8,
   "id": "5b27e518",
   "metadata": {},
   "outputs": [
    {
     "data": {
      "text/plain": [
       "[<IBMQSimulator('ibmq_qasm_simulator') from IBMQ(hub='ibm-q', group='open', project='main')>,\n",
       " <IBMQBackend('ibmq_armonk') from IBMQ(hub='ibm-q', group='open', project='main')>,\n",
       " <IBMQBackend('ibmq_santiago') from IBMQ(hub='ibm-q', group='open', project='main')>,\n",
       " <IBMQBackend('ibmq_bogota') from IBMQ(hub='ibm-q', group='open', project='main')>,\n",
       " <IBMQBackend('ibmq_lima') from IBMQ(hub='ibm-q', group='open', project='main')>,\n",
       " <IBMQBackend('ibmq_belem') from IBMQ(hub='ibm-q', group='open', project='main')>,\n",
       " <IBMQBackend('ibmq_quito') from IBMQ(hub='ibm-q', group='open', project='main')>,\n",
       " <IBMQSimulator('simulator_statevector') from IBMQ(hub='ibm-q', group='open', project='main')>,\n",
       " <IBMQSimulator('simulator_mps') from IBMQ(hub='ibm-q', group='open', project='main')>,\n",
       " <IBMQSimulator('simulator_extended_stabilizer') from IBMQ(hub='ibm-q', group='open', project='main')>,\n",
       " <IBMQSimulator('simulator_stabilizer') from IBMQ(hub='ibm-q', group='open', project='main')>,\n",
       " <IBMQBackend('ibmq_manila') from IBMQ(hub='ibm-q', group='open', project='main')>]"
      ]
     },
     "execution_count": 8,
     "metadata": {},
     "output_type": "execute_result"
    }
   ],
   "source": [
    "#### Your code goes here\n",
    "\n",
    "provider = IBMQ.load_account()\n",
    "IBMQ.active_account() #make sure you've loaded/saved your account with using you API token\n",
    "provider.backends()"
   ]
  },
  {
   "cell_type": "code",
   "execution_count": 9,
   "id": "b9c4a049",
   "metadata": {},
   "outputs": [],
   "source": [
    "backend = provider.get_backend('ibmq_belem')"
   ]
  },
  {
   "cell_type": "code",
   "execution_count": 10,
   "id": "96bb2260",
   "metadata": {
    "scrolled": true
   },
   "outputs": [
    {
     "data": {
      "application/vnd.jupyter.widget-view+json": {
       "model_id": "99c9183b28a542328996d12020bc9e4a",
       "version_major": 2,
       "version_minor": 0
      },
      "text/plain": [
       "VBox(children=(HTML(value=\"<h1 style='color:#ffffff;background-color:#000000;padding-top: 1%;padding-bottom: 1…"
      ]
     },
     "metadata": {},
     "output_type": "display_data"
    },
    {
     "data": {
      "text/plain": [
       "<IBMQBackend('ibmq_belem') from IBMQ(hub='ibm-q', group='open', project='main')>"
      ]
     },
     "execution_count": 10,
     "metadata": {},
     "output_type": "execute_result"
    }
   ],
   "source": [
    "backend"
   ]
  },
  {
   "cell_type": "code",
   "execution_count": 11,
   "id": "2e0b3908",
   "metadata": {},
   "outputs": [],
   "source": [
    "initial_layout = [0,1,2]"
   ]
  },
  {
   "cell_type": "code",
   "execution_count": 15,
   "id": "81c03cab",
   "metadata": {},
   "outputs": [
    {
     "ename": "IBMQJobFailureError",
     "evalue": "'Unable to retrieve result for job 62368031d97bff48826932fb. Job has failed: Internal Error. Error code: 9443.'",
     "output_type": "error",
     "traceback": [
      "\u001b[1;31m---------------------------------------------------------------------------\u001b[0m",
      "\u001b[1;31mIBMQJobFailureError\u001b[0m                       Traceback (most recent call last)",
      "\u001b[1;32m~\\AppData\\Local\\Temp/ipykernel_27128/571524137.py\u001b[0m in \u001b[0;36m<module>\u001b[1;34m\u001b[0m\n\u001b[0;32m     15\u001b[0m \u001b[1;33m\u001b[0m\u001b[0m\n\u001b[0;32m     16\u001b[0m     \u001b[0moutput\u001b[0m \u001b[1;33m=\u001b[0m \u001b[0mbackend\u001b[0m\u001b[1;33m.\u001b[0m\u001b[0mrun\u001b[0m\u001b[1;33m(\u001b[0m\u001b[0mqc_trans\u001b[0m\u001b[1;33m,\u001b[0m \u001b[0mshots\u001b[0m\u001b[1;33m=\u001b[0m\u001b[0mshots\u001b[0m\u001b[1;33m)\u001b[0m \u001b[1;31m#runs circuit and collects outputs (Z-measures)\u001b[0m\u001b[1;33m\u001b[0m\u001b[1;33m\u001b[0m\u001b[0m\n\u001b[1;32m---> 17\u001b[1;33m     \u001b[0mresults\u001b[0m \u001b[1;33m=\u001b[0m \u001b[0moutput\u001b[0m\u001b[1;33m.\u001b[0m\u001b[0mresult\u001b[0m\u001b[1;33m(\u001b[0m\u001b[1;33m)\u001b[0m \u001b[1;31m#lists results (Z-measures) after run\u001b[0m\u001b[1;33m\u001b[0m\u001b[1;33m\u001b[0m\u001b[0m\n\u001b[0m\u001b[0;32m     18\u001b[0m     \u001b[0mout_counts\u001b[0m \u001b[1;33m=\u001b[0m \u001b[0mresults\u001b[0m\u001b[1;33m.\u001b[0m\u001b[0mget_counts\u001b[0m\u001b[1;33m(\u001b[0m\u001b[0mqc_trans\u001b[0m\u001b[1;33m)\u001b[0m \u001b[1;31m#lists the counts of each state after run\u001b[0m\u001b[1;33m\u001b[0m\u001b[1;33m\u001b[0m\u001b[0m\n\u001b[0;32m     19\u001b[0m \u001b[1;33m\u001b[0m\u001b[0m\n",
      "\u001b[1;32m~\\.conda\\envs\\qiskit\\lib\\site-packages\\qiskit\\providers\\ibmq\\job\\ibmqjob.py\u001b[0m in \u001b[0;36mresult\u001b[1;34m(self, timeout, wait, partial, refresh)\u001b[0m\n\u001b[0;32m    288\u001b[0m                 \u001b[1;32melse\u001b[0m\u001b[1;33m:\u001b[0m\u001b[1;33m\u001b[0m\u001b[1;33m\u001b[0m\u001b[0m\n\u001b[0;32m    289\u001b[0m                     \u001b[0merror_message\u001b[0m \u001b[1;33m=\u001b[0m \u001b[1;34m\": \"\u001b[0m \u001b[1;33m+\u001b[0m \u001b[0merror_message\u001b[0m\u001b[1;33m\u001b[0m\u001b[1;33m\u001b[0m\u001b[0m\n\u001b[1;32m--> 290\u001b[1;33m                 raise IBMQJobFailureError(\n\u001b[0m\u001b[0;32m    291\u001b[0m                     'Unable to retrieve result for job {}. Job has failed{}'.format(\n\u001b[0;32m    292\u001b[0m                         self.job_id(), error_message))\n",
      "\u001b[1;31mIBMQJobFailureError\u001b[0m: 'Unable to retrieve result for job 62368031d97bff48826932fb. Job has failed: Internal Error. Error code: 9443.'"
     ]
    }
   ],
   "source": [
    "shots = int(2e3)\n",
    "\n",
    "steps = 100\n",
    "\n",
    "state = [1,0,1]\n",
    "\n",
    "ts = np.linspace(0,10,steps)\n",
    "\n",
    "count = np.empty(steps)\n",
    "mags = np.empty(steps)\n",
    "\n",
    "for i in range(steps):\n",
    "    qc = U_trotter(num_q, state, ts[i],1, j_hop, g_hop) #builds circuit with trotterized operator m=1\n",
    "    qc_trans = transpile(qc,backend)\n",
    "    \n",
    "    output = backend.run(qc_trans, shots=shots) #runs circuit and collects outputs (Z-measures)\n",
    "    results = output.result() #lists results (Z-measures) after run\n",
    "    out_counts = results.get_counts(qc_trans) #lists the counts of each state after run\n",
    "    \n",
    "    count[i] = out_counts.get('101') #stores count of desired state after run\n",
    "    \n",
    "    n1 = out_counts.get('000')\n",
    "    if n1 is None:\n",
    "        n1 = 0\n",
    "    n2 = out_counts.get('001')\n",
    "    if n2 is None:\n",
    "        n2 = 0\n",
    "    n3 = out_counts.get('010')\n",
    "    if n3 is None:\n",
    "        n3 = 0\n",
    "    n4 = sim_counts.get('100')\n",
    "    if n4 is None:\n",
    "        n4 = 0\n",
    "    n5 = out_counts.get('011')\n",
    "    if n5 is None:\n",
    "        n5 = 0\n",
    "    n6 = out_counts.get('101')\n",
    "    if n6 is None:\n",
    "        n6 = 0\n",
    "    n7 = out_counts.get('110')\n",
    "    if n7 is None:\n",
    "        n7 = 0\n",
    "    n8 = out_counts.get('111')\n",
    "    if n8 is None:\n",
    "        n8 = 0\n",
    "    \n",
    "    n_sum = n1+n2+n3+n4+n5+n6+n7+n8\n",
    "        \n",
    "    mags[i] = n_sum/shots - 2/num_q * (0*n1/shots + 1*n2/shots + 1*n3/shots + 1*n4/shots + 2*n5/shots + 2*n6/shots + 2*n7/shots + 3*n8/shots)\n",
    "\n",
    "plt.plot(ts,count/shots,label='m=1')\n",
    "plt.xlabel('Time (t)')\n",
    "plt.ylabel(r'Probability of state $|101\\rangle$')\n",
    "plt.title(r'Evolution of state $|101\\rangle$ under $H_{Ising}$')\n",
    "plt.grid()\n",
    "plt.legend()\n",
    "plt.show()    \n",
    "\n",
    "plt.plot(ts,mags,label='m=1')\n",
    "plt.xlabel('Time (t)')\n",
    "plt.ylabel(r'$\\langle\\sigma_z\\rangle$')\n",
    "plt.title(r'Magnitization of state $|101\\rangle$ under $H_{Ising}$')\n",
    "plt.grid()\n",
    "plt.legend()\n",
    "plt.show()\n",
    "\n",
    "print(output.job_id())"
   ]
  },
  {
   "cell_type": "code",
   "execution_count": null,
   "id": "0740c7fa",
   "metadata": {},
   "outputs": [],
   "source": []
  }
 ],
 "metadata": {
  "kernelspec": {
   "display_name": "Python 3 (ipykernel)",
   "language": "python",
   "name": "python3"
  },
  "language_info": {
   "codemirror_mode": {
    "name": "ipython",
    "version": 3
   },
   "file_extension": ".py",
   "mimetype": "text/x-python",
   "name": "python",
   "nbconvert_exporter": "python",
   "pygments_lexer": "ipython3",
   "version": "3.8.12"
  },
  "toc": {
   "base_numbering": 1,
   "nav_menu": {},
   "number_sections": true,
   "sideBar": true,
   "skip_h1_title": false,
   "title_cell": "Table of Contents",
   "title_sidebar": "Contents",
   "toc_cell": false,
   "toc_position": {},
   "toc_section_display": true,
   "toc_window_display": false
  }
 },
 "nbformat": 4,
 "nbformat_minor": 5
}
